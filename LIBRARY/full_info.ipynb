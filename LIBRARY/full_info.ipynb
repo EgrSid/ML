{
 "cells": [
  {
   "cell_type": "code",
   "execution_count": 1,
   "metadata": {},
   "outputs": [],
   "source": [
    "from numpy import array, exp, random, dot, inf, linspace\n",
    "import numpy as np\n",
    "import matplotlib.pyplot as plt\n",
    "from tqdm import tqdm\n",
    "import colorama\n",
    "# inf - бесконечность\n",
    "# dot - скалярное произведение векторов\n",
    "# exp - экспонента\n",
    "colorama.init(autoreset=True)"
   ]
  },
  {
   "cell_type": "markdown",
   "metadata": {},
   "source": [
    "# `НУЛЕВАЯ НЕЙРОСЕТЬ`"
   ]
  },
  {
   "cell_type": "code",
   "execution_count": 2,
   "metadata": {},
   "outputs": [],
   "source": [
    "def act(x):\n",
    "    \"\"\"Функция активации\"\"\"\n",
    "    return 0 if x < 0.5 else 1"
   ]
  },
  {
   "cell_type": "code",
   "execution_count": 3,
   "metadata": {},
   "outputs": [],
   "source": [
    "def nn0(h, m, c):\n",
    "    \"\"\"Модель обученной нейросети (с готовыми весами)\"\"\"\n",
    "    x = np.array([h, m, c])\n",
    "    w11 = np.array([1.0, -0.3, 0])  # первый нейрон на первом слое\n",
    "    w21 = np.array([0.4, -0.5, 1.0])  # второй нейрон на первом слое\n",
    "\n",
    "    weight1 = np.array([[1.0, -0.3, 0], [0.4, -0.5, 1.0]])\n",
    "    weight2 = np.array([-0.3, 1])\n",
    "\n",
    "    sum_hidden = np.dot(weight1, x)\n",
    "    print('Значение сумм на нейронах первого скрытого слоя: ', str(sum_hidden))\n",
    "    out_hidden = np.array([act(x) for x in sum_hidden])\n",
    "    print('Значения на выходах нейронов первого скрытого слоя: ', str(out_hidden))\n",
    "    print()\n",
    "\n",
    "    sum_hidden2 = np.dot(weight2, out_hidden)\n",
    "    print('Значение сумм на нейронах второго скрытого слоя: ', str(sum_hidden2))\n",
    "    y = act(sum_hidden2)\n",
    "    print('Выходные значения: ' + str(y))\n",
    "    return y"
   ]
  },
  {
   "cell_type": "code",
   "execution_count": 4,
   "metadata": {},
   "outputs": [
    {
     "name": "stdout",
     "output_type": "stream",
     "text": [
      "Значение сумм на нейронах первого скрытого слоя:  [0. 1.]\n",
      "Значения на выходах нейронов первого скрытого слоя:  [0 1]\n",
      "\n",
      "Значение сумм на нейронах второго скрытого слоя:  1.0\n",
      "Выходные значения: 1\n"
     ]
    },
    {
     "data": {
      "text/plain": [
       "1"
      ]
     },
     "execution_count": 4,
     "metadata": {},
     "output_type": "execute_result"
    }
   ],
   "source": [
    "hockey = 0\n",
    "music = 0\n",
    "c = 1\n",
    "\n",
    "res = nn0(hockey, music, c)\n",
    "res"
   ]
  },
  {
   "cell_type": "markdown",
   "metadata": {},
   "source": [
    "# `ПЕРВАЯ НЕЙРОСЕТЬ`"
   ]
  },
  {
   "cell_type": "code",
   "execution_count": 2,
   "metadata": {},
   "outputs": [],
   "source": [
    "def eps(type_eps, x1, x2):\n",
    "    \"\"\"Погрешность\"\"\"\n",
    "    if type_eps == 'rel':\n",
    "        try:\n",
    "            return (x2 - x1) / x1  # относительная\n",
    "        except ZeroDivisionError:\n",
    "            return inf\n",
    "    if type_eps == 'abs': return x2 - x1  # абсолютная"
   ]
  },
  {
   "cell_type": "code",
   "execution_count": 3,
   "metadata": {},
   "outputs": [],
   "source": [
    "def sigmoid(x):\n",
    "    \"\"\"Функция активизации (сигмоида)\"\"\"\n",
    "    # признаки + весы -> признаки\n",
    "    # g(x, w) - y(x)\n",
    "    return 1 / (1 + exp(-x))"
   ]
  },
  {
   "cell_type": "code",
   "execution_count": 4,
   "metadata": {},
   "outputs": [],
   "source": [
    "def get_DB(rows, cols):\n",
    "    \"\"\"создание базы данных для обучения/теста\"\"\"\n",
    "    df = []\n",
    "    passed = []\n",
    "    for i in range(rows):\n",
    "        while True:\n",
    "            templ_df = [randint(0, 1) for j in range(cols)]\n",
    "            if templ_df not in passed:\n",
    "                df.append(templ_df)\n",
    "                passed.append(df[-1])\n",
    "                break\n",
    "    return array(df).T"
   ]
  },
  {
   "cell_type": "code",
   "execution_count": 5,
   "metadata": {},
   "outputs": [],
   "source": [
    "def get_ans_for_DB(df):\n",
    "    \"\"\"получение ответов на заданную базу данных\"\"\"\n",
    "    res = [[]]  # список ответов\n",
    "    for i in df:\n",
    "        ans = i[0] # промежуточный ответ на каждый пункт\n",
    "        for j, el in enumerate(i):\n",
    "            # просто набор условий для получения ответа\n",
    "            if not j % 2:\n",
    "                ans = ans and el\n",
    "            elif not j % 3:\n",
    "                ans = ans or el\n",
    "            elif not j % 5:\n",
    "                ans = ans and not el\n",
    "            else:\n",
    "                ans = ans or not el\n",
    "        res[0].append(ans)\n",
    "    return array(res).T"
   ]
  },
  {
   "cell_type": "code",
   "execution_count": 6,
   "metadata": {},
   "outputs": [
    {
     "data": {
      "image/png": "[encoded data removed]",
      "text/plain": [
       "<Figure size 640x480 with 1 Axes>"
      ]
     },
     "metadata": {},
     "output_type": "display_data"
    }
   ],
   "source": [
    "# сигмоида\n",
    "\n",
    "plt.plot(linspace(-5, 5, 100), [sigmoid(x) for x in linspace(-5, 5, 100)])\n",
    "plt.grid(True)\n",
    "plt.xlim(-5, 5)\n",
    "plt.ylim(0, 1)\n",
    "plt.show()"
   ]
  },
  {
   "cell_type": "code",
   "execution_count": 7,
   "metadata": {},
   "outputs": [],
   "source": [
    "training_inputs = array([[0, 0, 1],\n",
    "                         [1, 1, 1],\n",
    "                         [1, 0, 1],\n",
    "                         [0, 1, 1],\n",
    "                         [0, 0, 0]]) # данные для обучения\n",
    "training_outputs = array([[0, 1, 1, 0, 0]]).T  # ответы на данные для обучения\n",
    "new_inputs = array([1, 0, 0])  # тестовые данные"
   ]
  },
  {
   "cell_type": "code",
   "execution_count": 8,
   "metadata": {},
   "outputs": [
    {
     "name": "stdout",
     "output_type": "stream",
     "text": [
      "0 0 1 | 0\n",
      "1 1 1 | 1\n",
      "1 0 1 | 1\n",
      "0 1 1 | 0\n",
      "0 0 0 | 0\n",
      "\n"
     ]
    }
   ],
   "source": [
    "# красивый вывод данных\n",
    "\n",
    "res = ''\n",
    "for i, el in enumerate(training_inputs):\n",
    "    res += f'{\" \".join(list(map(str, el)))} | {\" \".join(list(map(str, training_outputs[i])))}\\n'\n",
    "print(res)"
   ]
  },
  {
   "cell_type": "code",
   "execution_count": 9,
   "metadata": {},
   "outputs": [
    {
     "name": "stdout",
     "output_type": "stream",
     "text": [
      "Случайные инициализированные весы:\n",
      " [[-0.16595599]\n",
      " [ 0.44064899]\n",
      " [-0.99977125]]\n"
     ]
    }
   ],
   "source": [
    "random.seed(1)  # начальное семя рандома\n",
    "synaptic_weights = 2 * random.random((len(training_inputs[0]), 1)) - 1  # генерация случайных значений для матрицы от -1 до 1\n",
    "print('Случайные инициализированные весы:\\n', synaptic_weights)"
   ]
  },
  {
   "cell_type": "code",
   "execution_count": 10,
   "metadata": {},
   "outputs": [],
   "source": [
    "N = 100  # количество тренировок (эпох)"
   ]
  },
  {
   "cell_type": "code",
   "execution_count": 11,
   "metadata": {},
   "outputs": [
    {
     "name": "stderr",
     "output_type": "stream",
     "text": [
      "  0%|          | 0/100 [00:00<?, ?it/s]"
     ]
    },
    {
     "name": "stdout",
     "output_type": "stream",
     "text": [
      "(5, 3) (3, 1)\n",
      "(5, 1)\n",
      "\n",
      "(5, 3) (3, 1)\n",
      "(5, 1)\n",
      "\n",
      "(5, 3) (3, 1)\n",
      "(5, 1)\n",
      "\n",
      "(5, 3) (3, 1)\n",
      "(5, 1)\n",
      "\n",
      "(5, 3) (3, 1)\n",
      "(5, 1)\n",
      "\n",
      "(5, 3) (3, 1)\n",
      "(5, 1)\n",
      "\n",
      "(5, 3) (3, 1)\n",
      "(5, 1)\n",
      "\n",
      "(5, 3) (3, 1)\n",
      "(5, 1)\n",
      "\n",
      "(5, 3) (3, 1)\n",
      "(5, 1)\n",
      "\n",
      "(5, 3) (3, 1)\n",
      "(5, 1)\n",
      "\n",
      "(5, 3) "
     ]
    },
    {
     "name": "stdout",
     "output_type": "stream",
     "text": [
      "(3, 1)\n",
      "(5, 1)\n",
      "\n",
      "(5, 3) (3, 1)\n",
      "(5, 1)\n",
      "\n",
      "(5, 3) (3, 1)\n",
      "(5, 1)\n",
      "\n",
      "(5, 3) (3, 1)\n",
      "(5, 1)\n",
      "\n",
      "(5, 3) (3, 1)\n",
      "(5, 1)\n",
      "\n",
      "(5, 3) (3, 1)\n",
      "(5, 1)\n",
      "\n",
      "(5, 3) (3, 1)\n",
      "(5, 1)\n",
      "\n",
      "(5, 3) (3, 1)\n",
      "(5, 1)\n",
      "\n",
      "(5, 3) (3, 1)\n",
      "(5, 1)\n",
      "\n",
      "(5, 3) (3, 1)\n",
      "(5, 1)\n",
      "\n",
      "(5, 3) (3, 1)\n",
      "(5, 1)\n",
      "\n",
      "(5, 3) (3, 1)\n",
      "(5, 1)\n",
      "\n",
      "(5, 3) (3, 1)\n",
      "(5, 1)\n",
      "\n",
      "(5, 3) (3, 1)\n",
      "(5, 1)\n",
      "\n",
      "(5, 3) (3, 1)\n",
      "(5, 1)\n",
      "\n",
      "(5, 3) (3, 1)\n",
      "(5, 1)\n",
      "\n",
      "(5, 3) (3, 1)\n",
      "(5, 1)\n",
      "\n",
      "(5, 3) (3, 1)\n",
      "(5, 1)\n",
      "\n",
      "(5, 3) (3, 1)\n",
      "(5, 1)\n",
      "\n",
      "(5, 3) (3, 1)\n",
      "(5, 1)\n",
      "\n",
      "(5, 3) (3, 1)\n",
      "(5, 1)\n",
      "\n",
      "(5, 3) (3, 1)\n",
      "(5, 1)\n",
      "\n",
      "(5, 3) (3, 1)\n",
      "(5, 1)\n",
      "\n"
     ]
    },
    {
     "name": "stderr",
     "output_type": "stream",
     "text": [
      " 33%|███▎      | 33/100 [00:00<00:00, 321.36it/s]"
     ]
    },
    {
     "name": "stdout",
     "output_type": "stream",
     "text": [
      "(5, 3) (3, 1)\n",
      "(5, 1)\n",
      "\n",
      "(5, 3) (3, 1)\n",
      "(5, 1)\n",
      "\n",
      "(5, 3) (3, 1)\n",
      "(5, 1)\n",
      "\n",
      "(5, 3) (3, 1)\n",
      "(5, 1)\n",
      "\n",
      "(5, 3) (3, 1)\n",
      "(5, 1)\n",
      "\n",
      "(5, 3) (3, 1)\n",
      "(5, 1)\n",
      "\n",
      "(5, 3) (3, 1)\n",
      "(5, 1)\n",
      "\n",
      "(5, 3) (3, 1)\n",
      "(5, 1)\n",
      "\n",
      "(5, 3) (3, 1)\n",
      "(5, 1)\n",
      "\n",
      "(5, 3) (3, 1)\n",
      "(5, 1)\n",
      "\n",
      "(5, 3) (3, 1)\n",
      "(5, 1)\n",
      "\n",
      "(5, 3) (3, 1)\n",
      "(5, 1)\n",
      "\n",
      "(5, 3) (3, 1)\n",
      "(5, 1)\n",
      "\n",
      "(5, 3) (3, 1)\n",
      "(5, 1)\n",
      "\n",
      "(5, 3) (3, 1)\n",
      "(5, 1)\n",
      "\n",
      "(5, 3) (3, 1)\n",
      "(5, 1)\n",
      "\n",
      "(5, 3) (3, 1)\n",
      "(5, 1)\n",
      "\n",
      "(5, 3) (3, 1)\n",
      "(5, 1)\n",
      "\n",
      "(5, 3) (3, 1)\n",
      "(5, 1)\n",
      "\n",
      "(5, 3) (3, 1)\n",
      "(5, 1)\n",
      "\n",
      "(5, 3) (3, 1)\n",
      "(5, 1)\n",
      "\n",
      "(5, 3) (3, 1)\n",
      "(5, 1)\n",
      "\n",
      "(5, 3) (3, 1)\n",
      "(5, 1)\n",
      "\n",
      "(5, 3) (3, 1)\n",
      "(5, 1)\n",
      "\n",
      "(5, 3) (3, 1)\n",
      "(5, 1)\n",
      "\n",
      "(5, 3) (3, 1)\n",
      "(5, 1)\n",
      "\n",
      "(5, 3) (3, 1)\n",
      "(5, 1)\n",
      "\n",
      "(5, 3) (3, 1)\n",
      "(5, 1)\n",
      "\n",
      "(5, 3) (3, 1)\n",
      "(5, 1)\n",
      "\n",
      "(5, 3) (3, 1)\n",
      "(5, 1)\n",
      "\n",
      "(5, 3) (3, 1)\n",
      "(5, 1)\n",
      "\n",
      "(5, 3) (3, 1)\n",
      "(5, 1)\n",
      "\n",
      "(5, 3) (3, 1)\n",
      "(5, 1)\n",
      "\n",
      "(5, 3) (3, 1)\n",
      "(5, 1)\n",
      "\n",
      "(5, 3) (3, 1)\n",
      "(5, 1)\n",
      "\n",
      "(5, 3) (3, 1)\n",
      "(5, 1)\n",
      "\n"
     ]
    },
    {
     "name": "stderr",
     "output_type": "stream",
     "text": [
      " 69%|██████▉   | 69/100 [00:00<00:00, 333.93it/s]"
     ]
    },
    {
     "name": "stdout",
     "output_type": "stream",
     "text": [
      "(5, 3) (3, 1)\n",
      "(5, 1)\n",
      "\n",
      "(5, 3) (3, 1)\n",
      "(5, 1)\n",
      "\n",
      "(5, 3) (3, 1)\n",
      "(5, 1)\n",
      "\n",
      "(5, 3) (3, 1)\n",
      "(5, 1)\n",
      "\n",
      "(5, 3) (3, 1)\n",
      "(5, 1)\n",
      "\n",
      "(5, 3) (3, 1)\n",
      "(5, 1)\n",
      "\n",
      "(5, 3) (3, 1)\n",
      "(5, 1)\n",
      "\n",
      "(5, 3) (3, 1)\n",
      "(5, 1)\n",
      "\n",
      "(5, 3) (3, 1)\n",
      "(5, 1)\n",
      "\n",
      "(5, 3) (3, 1)\n",
      "(5, 1)\n",
      "\n",
      "(5, 3) (3, 1)\n",
      "(5, 1)\n",
      "\n",
      "(5, 3) (3, 1)\n",
      "(5, 1)\n",
      "\n",
      "(5, 3) (3, 1)\n",
      "(5, 1)\n",
      "\n",
      "(5, 3) (3, 1)\n",
      "(5, 1)\n",
      "\n",
      "(5, 3) (3, 1)\n",
      "(5, 1)\n",
      "\n",
      "(5, 3) (3, 1)\n",
      "(5, 1)\n",
      "\n",
      "(5, 3) (3, 1)\n",
      "(5, 1)\n",
      "\n",
      "(5, 3) (3, 1)\n",
      "(5, 1)\n",
      "\n",
      "(5, 3) (3, 1)\n",
      "(5, 1)\n",
      "\n",
      "(5, 3) (3, 1)\n",
      "(5, 1)\n",
      "\n",
      "(5, 3) (3, 1)\n",
      "(5, 1)\n",
      "\n",
      "(5, 3) (3, 1)\n",
      "(5, 1)\n",
      "\n",
      "(5, 3) (3, 1)\n",
      "(5, 1)\n",
      "\n",
      "(5, 3) (3, 1)\n",
      "(5, 1)\n",
      "\n",
      "(5, 3) (3, 1)\n",
      "(5, 1)\n",
      "\n",
      "(5, 3) (3, 1)\n",
      "(5, 1)\n",
      "\n",
      "(5, 3) (3, 1)\n",
      "(5, 1)\n",
      "\n",
      "(5, 3) (3, 1)\n",
      "(5, 1)\n",
      "\n",
      "(5, 3) (3, 1)\n",
      "(5, 1)\n",
      "\n",
      "(5, 3) (3, 1)\n",
      "(5, 1)\n",
      "\n",
      "(5, 3) (3, 1)\n",
      "(5, 1)\n",
      "\n"
     ]
    },
    {
     "name": "stderr",
     "output_type": "stream",
     "text": [
      "100%|██████████| 100/100 [00:00<00:00, 327.50it/s]\n"
     ]
    }
   ],
   "source": [
    "# метод обратного распространения\n",
    "y_list = []  # список из эпох обучения\n",
    "x_list = []  # список из погрешностей при обучении\n",
    "# поиск оптимальных весов\n",
    "for i in tqdm(range(N)):\n",
    "    input_layer = training_inputs\n",
    "    outputs = sigmoid(dot(input_layer, synaptic_weights))  # g(x, w) -> y(x)\n",
    "    print(np.shape(input_layer), np.shape(synaptic_weights))\n",
    "    print(np.shape(outputs))\n",
    "    print()\n",
    "    err = training_outputs - outputs  # абсолютная погрешность\n",
    "    y_list.append(err)\n",
    "    x_list.append(i)\n",
    "    adjustments = dot(input_layer.T, err * (outputs * (1 - outputs))) # улучшение весов\n",
    "    synaptic_weights += adjustments\n",
    "#print('Весы после обучения:\\n', synaptic_weights)"
   ]
  },
  {
   "cell_type": "code",
   "execution_count": 12,
   "metadata": {},
   "outputs": [
    {
     "name": "stdout",
     "output_type": "stream",
     "text": [
      "Результат:\n",
      "[0.11035029] eps=-11.035029233053617 %\n",
      "[0.91041229] eps=8.958770991929555 %\n",
      "[0.92564882] eps=7.435118234464766 %\n",
      "[0.09193919] eps=-9.193919237503557 %\n",
      "[0.5] eps=-50.0 %\n"
     ]
    },
    {
     "data": {
      "image/png": "[encoded data removed]",
      "text/plain": [
       "<Figure size 640x480 with 1 Axes>"
      ]
     },
     "metadata": {},
     "output_type": "display_data"
    }
   ],
   "source": [
    "print('Результат:')\n",
    "for r in range(len(outputs)): \n",
    "    print(f\"{outputs[r]} eps={eps('abs', outputs[r][0], training_outputs[r][0])*100} %\")\n",
    "\n",
    "# график погрешности значения от количества эпох\n",
    "plt.figure()\n",
    "plt.grid(True)\n",
    "for i in range(len(y_list[0])):\n",
    "    y = []\n",
    "    for j in range(len(y_list)):\n",
    "        y.append(y_list[j][i])\n",
    "    plt.plot(x_list, y)"
   ]
  },
  {
   "cell_type": "code",
   "execution_count": 13,
   "metadata": {},
   "outputs": [
    {
     "name": "stdout",
     "output_type": "stream",
     "text": [
      "Новая ситуация [1 0 0]: 1.0\n"
     ]
    }
   ],
   "source": [
    "output = sigmoid(dot(new_inputs, synaptic_weights))\n",
    "print(f'Новая ситуация {new_inputs}:', colorama.Fore.RED + str(round(output[0], 1)))"
   ]
  },
  {
   "cell_type": "code",
   "execution_count": null,
   "metadata": {},
   "outputs": [],
   "source": []
  }
 ],
 "metadata": {
  "kernelspec": {
   "display_name": "Python 3",
   "language": "python",
   "name": "python3"
  },
  "language_info": {
   "codemirror_mode": {
    "name": "ipython",
    "version": 3
   },
   "file_extension": ".py",
   "mimetype": "text/x-python",
   "name": "python",
   "nbconvert_exporter": "python",
   "pygments_lexer": "ipython3",
   "version": "3.11.9"
  }
 },
 "nbformat": 4,
 "nbformat_minor": 2
}
