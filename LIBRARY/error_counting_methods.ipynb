{
 "cells": [
  {
   "cell_type": "markdown",
   "metadata": {},
   "source": [
    "# `Модели классификации`"
   ]
  },
  {
   "cell_type": "code",
   "execution_count": 2,
   "metadata": {},
   "outputs": [],
   "source": [
    "import numpy as np\n",
    "from sklearn import metrics"
   ]
  },
  {
   "cell_type": "markdown",
   "metadata": {},
   "source": [
    "# Accuracy Score\n",
    "\n",
    "`процент правильных предсказаний`\n",
    "\n",
    "частный случай Top-k при k = 1"
   ]
  },
  {
   "cell_type": "markdown",
   "metadata": {},
   "source": [
    "<math xmlns=\"http://www.w3.org/1998/Math/MathML\" display=\"block\">\n",
    "  <mtext mathvariant=\"monospace\">accuracy</mtext>\n",
    "  <mo stretchy=\"false\">(</mo>\n",
    "  <mi>y</mi>\n",
    "  <mo>,</mo>\n",
    "  <mrow data-mjx-texclass=\"ORD\">\n",
    "    <mover>\n",
    "      <mi>y</mi>\n",
    "      <mo stretchy=\"false\">^</mo>\n",
    "    </mover>\n",
    "  </mrow>\n",
    "  <mo stretchy=\"false\">)</mo>\n",
    "  <mo>=</mo>\n",
    "  <mfrac>\n",
    "    <mn>1</mn>\n",
    "    <msub>\n",
    "      <mi>n</mi>\n",
    "      <mtext>samples</mtext>\n",
    "    </msub>\n",
    "  </mfrac>\n",
    "  <munderover>\n",
    "    <mo data-mjx-texclass=\"OP\">&#x2211;</mo>\n",
    "    <mrow data-mjx-texclass=\"ORD\">\n",
    "      <mi>i</mi>\n",
    "      <mo>=</mo>\n",
    "      <mn>0</mn>\n",
    "    </mrow>\n",
    "    <mrow data-mjx-texclass=\"ORD\">\n",
    "      <msub>\n",
    "        <mi>n</mi>\n",
    "        <mtext>samples</mtext>\n",
    "      </msub>\n",
    "      <mo>&#x2212;</mo>\n",
    "      <mn>1</mn>\n",
    "    </mrow>\n",
    "  </munderover>\n",
    "  <mn>1</mn>\n",
    "  <mo stretchy=\"false\">(</mo>\n",
    "  <msub>\n",
    "    <mrow data-mjx-texclass=\"ORD\">\n",
    "      <mover>\n",
    "        <mi>y</mi>\n",
    "        <mo stretchy=\"false\">^</mo>\n",
    "      </mover>\n",
    "    </mrow>\n",
    "    <mi>i</mi>\n",
    "  </msub>\n",
    "  <mo>=</mo>\n",
    "  <msub>\n",
    "    <mi>y</mi>\n",
    "    <mi>i</mi>\n",
    "  </msub>\n",
    "  <mo stretchy=\"false\">)</mo>\n",
    "</math>"
   ]
  },
  {
   "cell_type": "code",
   "execution_count": 4,
   "metadata": {},
   "outputs": [
    {
     "data": {
      "text/plain": [
       "0.5"
      ]
     },
     "execution_count": 4,
     "metadata": {},
     "output_type": "execute_result"
    }
   ],
   "source": [
    "y_pred = [0, 2, 1, 3]\n",
    "y_true = [0, 1, 2, 3]\n",
    "\n",
    "metrics.accuracy_score(y_pred, y_true)"
   ]
  },
  {
   "cell_type": "markdown",
   "metadata": {},
   "source": [
    "# Top-k\n",
    "\n",
    "`процент правильных предсказаний`\n",
    "\n",
    "`предсказание считается правильным, если если истинная метка связана с одним из kнаивысших прогнозируемых баллов`\n",
    "\n",
    "<math xmlns=\"http://www.w3.org/1998/Math/MathML\" display=\"block\">\n",
    "  <mtext mathvariant=\"monospace\">top-k accuracy</mtext>\n",
    "  <mo stretchy=\"false\">(</mo>\n",
    "  <mi>y</mi>\n",
    "  <mo>,</mo>\n",
    "  <mrow data-mjx-texclass=\"ORD\">\n",
    "    <mover>\n",
    "      <mi>f</mi>\n",
    "      <mo stretchy=\"false\">^</mo>\n",
    "    </mover>\n",
    "  </mrow>\n",
    "  <mo stretchy=\"false\">)</mo>\n",
    "  <mo>=</mo>\n",
    "  <mfrac>\n",
    "    <mn>1</mn>\n",
    "    <msub>\n",
    "      <mi>n</mi>\n",
    "      <mtext>samples</mtext>\n",
    "    </msub>\n",
    "  </mfrac>\n",
    "  <munderover>\n",
    "    <mo data-mjx-texclass=\"OP\">&#x2211;</mo>\n",
    "    <mrow data-mjx-texclass=\"ORD\">\n",
    "      <mi>i</mi>\n",
    "      <mo>=</mo>\n",
    "      <mn>0</mn>\n",
    "    </mrow>\n",
    "    <mrow data-mjx-texclass=\"ORD\">\n",
    "      <msub>\n",
    "        <mi>n</mi>\n",
    "        <mtext>samples</mtext>\n",
    "      </msub>\n",
    "      <mo>&#x2212;</mo>\n",
    "      <mn>1</mn>\n",
    "    </mrow>\n",
    "  </munderover>\n",
    "  <munderover>\n",
    "    <mo data-mjx-texclass=\"OP\">&#x2211;</mo>\n",
    "    <mrow data-mjx-texclass=\"ORD\">\n",
    "      <mi>j</mi>\n",
    "      <mo>=</mo>\n",
    "      <mn>1</mn>\n",
    "    </mrow>\n",
    "    <mrow data-mjx-texclass=\"ORD\">\n",
    "      <mi>k</mi>\n",
    "    </mrow>\n",
    "  </munderover>\n",
    "  <mn>1</mn>\n",
    "  <mo stretchy=\"false\">(</mo>\n",
    "  <msub>\n",
    "    <mrow data-mjx-texclass=\"ORD\">\n",
    "      <mover>\n",
    "        <mi>f</mi>\n",
    "        <mo stretchy=\"false\">^</mo>\n",
    "      </mover>\n",
    "    </mrow>\n",
    "    <mrow data-mjx-texclass=\"ORD\">\n",
    "      <mi>i</mi>\n",
    "      <mo>,</mo>\n",
    "      <mi>j</mi>\n",
    "    </mrow>\n",
    "  </msub>\n",
    "  <mo>=</mo>\n",
    "  <msub>\n",
    "    <mi>y</mi>\n",
    "    <mi>i</mi>\n",
    "  </msub>\n",
    "  <mo stretchy=\"false\">)</mo>\n",
    "</math>"
   ]
  },
  {
   "cell_type": "code",
   "execution_count": 5,
   "metadata": {},
   "outputs": [
    {
     "data": {
      "text/plain": [
       "0.75"
      ]
     },
     "execution_count": 5,
     "metadata": {},
     "output_type": "execute_result"
    }
   ],
   "source": [
    "y_true = np.array([0, 1, 2, 2])\n",
    "y_score = np.array([[0.5, 0.2, 0.2],\n",
    "                   [0.3, 0.4, 0.2],\n",
    "                  [0.2, 0.4, 0.3],\n",
    "                   [0.7, 0.2, 0.1]])\n",
    "metrics.top_k_accuracy_score(y_true, y_score, k=2)"
   ]
  },
  {
   "cell_type": "markdown",
   "metadata": {},
   "source": [
    "# Confusion matrix\n",
    "\n",
    "`матрица запутанности`"
   ]
  },
  {
   "cell_type": "code",
   "execution_count": 7,
   "metadata": {},
   "outputs": [
    {
     "data": {
      "text/plain": [
       "array([[2, 0, 1],\n",
       "       [0, 0, 0],\n",
       "       [0, 1, 2]], dtype=int64)"
      ]
     },
     "execution_count": 7,
     "metadata": {},
     "output_type": "execute_result"
    }
   ],
   "source": [
    "y_true = [2, 0, 2, 2, 0, 1]\n",
    "y_pred = [0, 0, 2, 2, 0, 2]\n",
    "metrics.confusion_matrix(y_pred, y_true)"
   ]
  },
  {
   "cell_type": "markdown",
   "metadata": {},
   "source": [
    "# `Модели регрессии`"
   ]
  },
  {
   "cell_type": "markdown",
   "metadata": {},
   "source": [
    "# explained_variance_score \n",
    "\n",
    "`объясненная дисперсия`\n",
    "\n",
    "`Это значение представляет долю дисперсии в переменной отклика, которая может быть объяснена предикторной переменной (переменными) в модели.`\n",
    "<math xmlns=\"http://www.w3.org/1998/Math/MathML\" display=\"block\">\n",
    "  <mi>e</mi>\n",
    "  <mi>x</mi>\n",
    "  <mi>p</mi>\n",
    "  <mi>l</mi>\n",
    "  <mi>a</mi>\n",
    "  <mi>i</mi>\n",
    "  <mi>n</mi>\n",
    "  <mi>e</mi>\n",
    "  <msub>\n",
    "    <mi>d</mi>\n",
    "    <mrow data-mjx-texclass=\"ORD\"></mrow>\n",
    "  </msub>\n",
    "  <mi>v</mi>\n",
    "  <mi>a</mi>\n",
    "  <mi>r</mi>\n",
    "  <mi>i</mi>\n",
    "  <mi>a</mi>\n",
    "  <mi>n</mi>\n",
    "  <mi>c</mi>\n",
    "  <mi>e</mi>\n",
    "  <mo stretchy=\"false\">(</mo>\n",
    "  <mi>y</mi>\n",
    "  <mo>,</mo>\n",
    "  <mrow data-mjx-texclass=\"ORD\">\n",
    "    <mover>\n",
    "      <mi>y</mi>\n",
    "      <mo stretchy=\"false\">^</mo>\n",
    "    </mover>\n",
    "  </mrow>\n",
    "  <mo stretchy=\"false\">)</mo>\n",
    "  <mo>=</mo>\n",
    "  <mn>1</mn>\n",
    "  <mrow data-mjx-texclass=\"ORD\">\n",
    "    <mo>&#x2014;</mo>\n",
    "  </mrow>\n",
    "  <mfrac>\n",
    "    <mrow>\n",
    "      <mi>V</mi>\n",
    "      <mi>a</mi>\n",
    "      <mi>r</mi>\n",
    "      <mrow data-mjx-texclass=\"ORD\">\n",
    "        <mi>y</mi>\n",
    "        <mrow data-mjx-texclass=\"ORD\">\n",
    "          <mo>&#x2014;</mo>\n",
    "        </mrow>\n",
    "        <mrow data-mjx-texclass=\"ORD\">\n",
    "          <mover>\n",
    "            <mi>y</mi>\n",
    "            <mo stretchy=\"false\">^</mo>\n",
    "          </mover>\n",
    "        </mrow>\n",
    "      </mrow>\n",
    "    </mrow>\n",
    "    <mrow>\n",
    "      <mi>V</mi>\n",
    "      <mi>a</mi>\n",
    "      <mi>r</mi>\n",
    "      <mrow data-mjx-texclass=\"ORD\">\n",
    "        <mi>y</mi>\n",
    "      </mrow>\n",
    "    </mrow>\n",
    "  </mfrac>\n",
    "</math>"
   ]
  },
  {
   "cell_type": "code",
   "execution_count": 11,
   "metadata": {},
   "outputs": [
    {
     "data": {
      "text/plain": [
       "0.9645"
      ]
     },
     "execution_count": 11,
     "metadata": {},
     "output_type": "execute_result"
    }
   ],
   "source": [
    "y_true = [3, -0.5, 2, 7]\n",
    "y_pred = [2.5, 0.0, 2, 8]\n",
    "\n",
    "metrics.explained_variance_score(y_pred, y_true).round(4)"
   ]
  },
  {
   "cell_type": "markdown",
   "metadata": {},
   "source": [
    "# max_error\n",
    "\n",
    "`худшая ошибка в выборке между предсказанным значением и правильным`\n",
    "\n",
    "<math xmlns=\"http://www.w3.org/1998/Math/MathML\" display=\"block\">\n",
    "  <mtext>Max Error</mtext>\n",
    "  <mo stretchy=\"false\">(</mo>\n",
    "  <mi>y</mi>\n",
    "  <mo>,</mo>\n",
    "  <mrow data-mjx-texclass=\"ORD\">\n",
    "    <mover>\n",
    "      <mi>y</mi>\n",
    "      <mo stretchy=\"false\">^</mo>\n",
    "    </mover>\n",
    "  </mrow>\n",
    "  <mo stretchy=\"false\">)</mo>\n",
    "  <mo>=</mo>\n",
    "  <mi>m</mi>\n",
    "  <mi>a</mi>\n",
    "  <mi>x</mi>\n",
    "  <mo stretchy=\"false\">(</mo>\n",
    "  <mrow data-mjx-texclass=\"ORD\">\n",
    "    <mo stretchy=\"false\">|</mo>\n",
    "  </mrow>\n",
    "  <msub>\n",
    "    <mi>y</mi>\n",
    "    <mi>i</mi>\n",
    "  </msub>\n",
    "  <mrow data-mjx-texclass=\"ORD\">\n",
    "    <mo>&#x2014;</mo>\n",
    "  </mrow>\n",
    "  <msub>\n",
    "    <mrow data-mjx-texclass=\"ORD\">\n",
    "      <mover>\n",
    "        <mi>y</mi>\n",
    "        <mo stretchy=\"false\">^</mo>\n",
    "      </mover>\n",
    "    </mrow>\n",
    "    <mi>i</mi>\n",
    "  </msub>\n",
    "  <mrow data-mjx-texclass=\"ORD\">\n",
    "    <mo stretchy=\"false\">|</mo>\n",
    "  </mrow>\n",
    "  <mo stretchy=\"false\">)</mo>\n",
    "</math>"
   ]
  },
  {
   "cell_type": "code",
   "execution_count": 16,
   "metadata": {},
   "outputs": [
    {
     "data": {
      "text/plain": [
       "6"
      ]
     },
     "execution_count": 16,
     "metadata": {},
     "output_type": "execute_result"
    }
   ],
   "source": [
    "y_true = [3, 2, 7, 1]\n",
    "y_pred = [9, 2, 7, 1]\n",
    "metrics.max_error(y_true, y_pred)  # максимальная ошибка между 3 и 9, она равна 6"
   ]
  },
  {
   "cell_type": "markdown",
   "metadata": {},
   "source": [
    "# mean_absolute_percentage_error\n",
    "\n",
    "`среднее абсолютное отклонение в процентах`"
   ]
  },
  {
   "cell_type": "code",
   "execution_count": 18,
   "metadata": {},
   "outputs": [
    {
     "data": {
      "text/plain": [
       "0.267"
      ]
     },
     "execution_count": 18,
     "metadata": {},
     "output_type": "execute_result"
    }
   ],
   "source": [
    "y_true = [1, 10, 1e6]\n",
    "y_pred = [0.9, 15, 1.2e6]\n",
    "metrics.mean_absolute_percentage_error(y_true, y_pred).round(3)"
   ]
  },
  {
   "cell_type": "code",
   "execution_count": null,
   "metadata": {},
   "outputs": [],
   "source": []
  }
 ],
 "metadata": {
  "kernelspec": {
   "display_name": "Python 3",
   "language": "python",
   "name": "python3"
  },
  "language_info": {
   "codemirror_mode": {
    "name": "ipython",
    "version": 3
   },
   "file_extension": ".py",
   "mimetype": "text/x-python",
   "name": "python",
   "nbconvert_exporter": "python",
   "pygments_lexer": "ipython3",
   "version": "3.11.6"
  }
 },
 "nbformat": 4,
 "nbformat_minor": 2
}
