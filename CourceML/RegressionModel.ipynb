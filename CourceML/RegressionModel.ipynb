{
 "cells": [
  {
   "cell_type": "markdown",
   "metadata": {},
   "source": [
    "# `Модель регрессии`"
   ]
  },
  {
   "cell_type": "code",
   "execution_count": null,
   "metadata": {},
   "outputs": [],
   "source": [
    "from sklearn.linear_model import LinearRegression\n",
    "from sklearn import metrics\n",
    "from sklearn.model_selection import train_test_split"
   ]
  },
  {
   "cell_type": "code",
   "execution_count": null,
   "metadata": {},
   "outputs": [],
   "source": [
    "# изменяем размер\n",
    "# 1 число - количество строк, 2 число - количество столбцов \n",
    "# -1 - все элементы (пусть компьютер сам подберет количество строк, исходя из количества данных в массиве)\n",
    "x = x.reshape(-1, 1)\n",
    "y = y.reshape(-1, 1)"
   ]
  },
  {
   "cell_type": "code",
   "execution_count": null,
   "metadata": {},
   "outputs": [],
   "source": [
    "x_train, x_test, y_train, y_test = train_test_split(x, y, test_size=0.3, shuffle=True, random_state=1)  # разделяем данные на тренировочные и тестовые"
   ]
  },
  {
   "cell_type": "code",
   "execution_count": null,
   "metadata": {},
   "outputs": [
    {
     "name": "stdout",
     "output_type": "stream",
     "text": [
      "[[27.58544788]] [-11.71847753]\n"
     ]
    }
   ],
   "source": [
    "clf = LinearRegression()  # создаем классификатор линейной регрессии\n",
    "clf.fit(x_train, y_train)  # обучаем классификатор\n",
    "print(clf.coef_,  clf.intercept_)  # выводим подобранные моделью коэффициенты"
   ]
  },
  {
   "cell_type": "code",
   "execution_count": null,
   "metadata": {},
   "outputs": [
    {
     "data": {
      "text/plain": [
       "array([[29.65969428],\n",
       "       [29.3838398 ],\n",
       "       [33.79751146],\n",
       "       [37.10776521],\n",
       "       [32.41823907]])"
      ]
     },
     "metadata": {},
     "output_type": "display_data"
    }
   ],
   "source": [
    "y_pred = clf.predict(x_test)  # предсказание данных\n",
    "y_pred[:5]"
   ]
  },
  {
   "cell_type": "code",
   "execution_count": null,
   "metadata": {},
   "outputs": [
    {
     "name": "stdout",
     "output_type": "stream",
     "text": [
      "среднеквадратическая ошибка: 0.2659471621051564\n",
      "корень среднеквадратической ошибки: 0.5157006516431373\n"
     ]
    }
   ],
   "source": [
    "print('среднеквадратическая ошибка:', metrics.mean_squared_error(y_test, y_pred))\n",
    "print('корень среднеквадратической ошибки:', np.sqrt(metrics.mean_squared_error(y_test, y_pred)))"
   ]
  }
 ],
 "metadata": {
  "language_info": {
   "name": "python"
  }
 },
 "nbformat": 4,
 "nbformat_minor": 2
}
